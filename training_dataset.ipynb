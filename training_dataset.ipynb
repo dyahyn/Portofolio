{
  "nbformat": 4,
  "nbformat_minor": 0,
  "metadata": {
    "colab": {
      "name": "training-dataset.ipynb",
      "provenance": [],
      "mount_file_id": "1w9q-Z-Dtrsu7KcKjtvgWO1j9DRV-KAPL",
      "authorship_tag": "ABX9TyP53N6p/8wueSIQ0WSjL6To",
      "include_colab_link": true
    },
    "kernelspec": {
      "name": "python3",
      "display_name": "Python 3"
    },
    "language_info": {
      "name": "python"
    }
  },
  "cells": [
    {
      "cell_type": "markdown",
      "metadata": {
        "id": "view-in-github",
        "colab_type": "text"
      },
      "source": [
        "<a href=\"https://colab.research.google.com/github/dyahyn/Portofolio/blob/main/training_dataset.ipynb\" target=\"_parent\"><img src=\"https://colab.research.google.com/assets/colab-badge.svg\" alt=\"Open In Colab\"/></a>"
      ]
    },
    {
      "cell_type": "markdown",
      "source": [
        "## **Training Dataset**\n",
        "Calling the json file then put the feature into neural network"
      ],
      "metadata": {
        "id": "Q8UzK-gFWYVt"
      }
    },
    {
      "cell_type": "code",
      "source": [
        "#import related packages\n",
        "!pip3 install keras-visualizer\n",
        "\n",
        "import numpy as np\n",
        "import json\n",
        "import tensorflow as tf\n",
        "import matplotlib.pyplot as plt\n",
        "from sklearn.model_selection import train_test_split\n",
        "from keras_visualizer import visualizer\n",
        "\n",
        "DATA_PATH = \"/content/drive/MyDrive/BANGKIT_CAPSTONE/data.json\"\n",
        "SAVED_MODEL_PATH = \"/content/drive/MyDrive/BANGKIT_CAPSTONE/training_model.h5\"\n",
        "EPOCHS = 100\n",
        "BATCH_SIZE = 32\n",
        "PATIENCE = 20\n",
        "LEARNING_RATE = 0.0001"
      ],
      "metadata": {
        "colab": {
          "base_uri": "https://localhost:8080/"
        },
        "id": "RYOoE83oWpWA",
        "outputId": "b78dfd64-bc06-4540-89e8-6de91758c0b5"
      },
      "execution_count": 12,
      "outputs": [
        {
          "output_type": "stream",
          "name": "stdout",
          "text": [
            "Looking in indexes: https://pypi.org/simple, https://us-python.pkg.dev/colab-wheels/public/simple/\n",
            "Requirement already satisfied: keras-visualizer in /usr/local/lib/python3.7/dist-packages (2.4)\n"
          ]
        }
      ]
    },
    {
      "cell_type": "code",
      "source": [
        "def prepare_dataset(data_path, test_size=0.1, validation_size=0.1):\n",
        "    # load dataset\n",
        "    X, y = load_data(data_path)\n",
        "\n",
        "    # create train, validation, test split\n",
        "    X_train, X_test, y_train, y_test = train_test_split(X, y, test_size=test_size)\n",
        "    X_train, X_validation, y_train, y_validation = train_test_split(X_train, y_train, test_size=validation_size)\n",
        "\n",
        "    # add an axis to nd array\n",
        "    X_train = X_train[..., np.newaxis]\n",
        "    X_test = X_test[..., np.newaxis]\n",
        "    X_validation = X_validation[..., np.newaxis]\n",
        "\n",
        "    return X_train, y_train, X_validation, y_validation, X_test, y_test"
      ],
      "metadata": {
        "id": "2BDkXPlBXCvB"
      },
      "execution_count": 13,
      "outputs": []
    },
    {
      "cell_type": "code",
      "source": [
        "def load_data(data_path):\n",
        "    with open(data_path, \"r\") as fp:\n",
        "        data = json.load(fp)\n",
        "\n",
        "    X = np.array(data[\"MFCCs\"])\n",
        "    y = np.array(data[\"labels\"])\n",
        "    print(\"Training sets loaded!\")\n",
        "    return X, y"
      ],
      "metadata": {
        "id": "cO4jforqXdl1"
      },
      "execution_count": 14,
      "outputs": []
    },
    {
      "cell_type": "code",
      "source": [
        "def build_model(input_shape, loss=\"sparse_categorical_crossentropy\", learning_rate=0.0001):\n",
        "    \n",
        "    # build network architecture using convolutional layers\n",
        "    model = tf.keras.models.Sequential()\n",
        "\n",
        "    # 1st conv layer\n",
        "    model.add(tf.keras.layers.Conv2D(64, (3, 3), activation='relu', input_shape=input_shape,\n",
        "                                     kernel_regularizer=tf.keras.regularizers.l2(0.00001)))\n",
        "    model.add(tf.keras.layers.BatchNormalization())\n",
        "    model.add(tf.keras.layers.MaxPooling2D((2, 2), strides=(2,2), padding='same'))\n",
        "\n",
        "    tf.keras.layers.Dropout(0.3)\n",
        "\n",
        "    # 2nd conv layer\n",
        "    model.add(tf.keras.layers.Conv2D(32, (3, 3), activation='relu',\n",
        "                                     kernel_regularizer=tf.keras.regularizers.l2(0.00001)))\n",
        "    model.add(tf.keras.layers.BatchNormalization())\n",
        "    model.add(tf.keras.layers.MaxPooling2D((2, 2), strides=(2,2), padding='same'))\n",
        "\n",
        "    tf.keras.layers.Dropout(0.2)\n",
        "\n",
        "\n",
        "    # flatten output and feed into dense layer\n",
        "    model.add(tf.keras.layers.Flatten())\n",
        "    model.add(tf.keras.layers.Dense(64, activation='relu'))\n",
        "    tf.keras.layers.Dropout(0.3)\n",
        "\n",
        "    # softmax output layer\n",
        "    model.add(tf.keras.layers.Dense(4, activation='softmax'))\n",
        "\n",
        "    optimiser = tf.optimizers.Adam(learning_rate=learning_rate)\n",
        "\n",
        "    # compile model\n",
        "    model.compile(optimizer=optimiser,\n",
        "                  loss=loss,\n",
        "                  metrics=[\"accuracy\"])\n",
        "\n",
        "    # print model parameters on console\n",
        "    model.summary()\n",
        "\n",
        "    return model\n"
      ],
      "metadata": {
        "id": "-OBT9huyXn07"
      },
      "execution_count": 16,
      "outputs": []
    },
    {
      "cell_type": "code",
      "source": [
        "\n",
        "def train(model, epochs, batch_size, patience, X_train, y_train, X_validation, y_validation):\n",
        "    \n",
        "    earlystop_callback = tf.keras.callbacks.EarlyStopping(monitor=\"val_accuracy\", min_delta=0.001, patience=patience)\n",
        "\n",
        "    # train model\n",
        "    history = model.fit(X_train,\n",
        "                        y_train,\n",
        "                        epochs=epochs,\n",
        "                        batch_size=batch_size,\n",
        "                        validation_data=(X_validation, y_validation),\n",
        "                        callbacks=[earlystop_callback])\n",
        "    return history"
      ],
      "metadata": {
        "id": "nG1N3qyfX1l-"
      },
      "execution_count": 17,
      "outputs": []
    },
    {
      "cell_type": "code",
      "source": [
        "def plot_history(history):\n",
        "    \n",
        "    fig, axs = plt.subplots(2)\n",
        "\n",
        "    plt.figure(figsize=(5,10))\n",
        "\n",
        "    # create accuracy subplot\n",
        "    axs[0].plot(history.history[\"accuracy\"], label=\"accuracy\")\n",
        "    axs[0].plot(history.history['val_accuracy'], label=\"val_accuracy\")\n",
        "    axs[0].set_ylabel(\"Accuracy\")\n",
        "    axs[0].legend(loc=\"lower right\")\n",
        "    axs[0].set_title(\"Accuracy evaluation\")\n",
        "\n",
        "    # create loss subplot\n",
        "    axs[1].plot(history.history[\"loss\"], label=\"loss\")\n",
        "    axs[1].plot(history.history['val_loss'], label=\"val_loss\")\n",
        "    axs[1].set_xlabel(\"Epoch\")\n",
        "    axs[1].set_ylabel(\"Loss\")\n",
        "    axs[1].legend(loc=\"upper right\")\n",
        "    axs[1].set_title(\"Loss evaluation\")\n",
        "\n",
        "    \n",
        "\n",
        "    plt.show()"
      ],
      "metadata": {
        "id": "pP2FESmOX47i"
      },
      "execution_count": 18,
      "outputs": []
    },
    {
      "cell_type": "code",
      "source": [
        "X_train, y_train, X_validation, y_validation, X_test, y_test = prepare_dataset(DATA_PATH)"
      ],
      "metadata": {
        "colab": {
          "base_uri": "https://localhost:8080/"
        },
        "id": "ifldgaFrX8mz",
        "outputId": "691ef735-90e0-4d49-cdbe-af5ff6ccb52f"
      },
      "execution_count": 19,
      "outputs": [
        {
          "output_type": "stream",
          "name": "stdout",
          "text": [
            "Training sets loaded!\n"
          ]
        }
      ]
    },
    {
      "cell_type": "code",
      "source": [
        "input_shape = (X_train.shape[1], X_train.shape[2], 1)\n",
        "model = build_model(input_shape, learning_rate=LEARNING_RATE)"
      ],
      "metadata": {
        "colab": {
          "base_uri": "https://localhost:8080/"
        },
        "id": "X3Fda1CvX_cj",
        "outputId": "7c025fc9-aee6-42a4-d17f-0485007a3b83"
      },
      "execution_count": 20,
      "outputs": [
        {
          "output_type": "stream",
          "name": "stdout",
          "text": [
            "Model: \"sequential_1\"\n",
            "_________________________________________________________________\n",
            " Layer (type)                Output Shape              Param #   \n",
            "=================================================================\n",
            " conv2d_2 (Conv2D)           (None, 42, 11, 64)        640       \n",
            "                                                                 \n",
            " batch_normalization_2 (Batc  (None, 42, 11, 64)       256       \n",
            " hNormalization)                                                 \n",
            "                                                                 \n",
            " max_pooling2d_2 (MaxPooling  (None, 21, 6, 64)        0         \n",
            " 2D)                                                             \n",
            "                                                                 \n",
            " conv2d_3 (Conv2D)           (None, 19, 4, 32)         18464     \n",
            "                                                                 \n",
            " batch_normalization_3 (Batc  (None, 19, 4, 32)        128       \n",
            " hNormalization)                                                 \n",
            "                                                                 \n",
            " max_pooling2d_3 (MaxPooling  (None, 10, 2, 32)        0         \n",
            " 2D)                                                             \n",
            "                                                                 \n",
            " flatten_1 (Flatten)         (None, 640)               0         \n",
            "                                                                 \n",
            " dense_2 (Dense)             (None, 64)                41024     \n",
            "                                                                 \n",
            " dense_3 (Dense)             (None, 4)                 260       \n",
            "                                                                 \n",
            "=================================================================\n",
            "Total params: 60,772\n",
            "Trainable params: 60,580\n",
            "Non-trainable params: 192\n",
            "_________________________________________________________________\n"
          ]
        }
      ]
    },
    {
      "cell_type": "code",
      "source": [
        "\n",
        "print(X_train.shape)\n",
        "\n",
        "print(input_shape)"
      ],
      "metadata": {
        "colab": {
          "base_uri": "https://localhost:8080/"
        },
        "id": "IUCLdDuWYOeB",
        "outputId": "2d8ec2b7-96b4-4df8-b04e-d2515b6d0e31"
      },
      "execution_count": 21,
      "outputs": [
        {
          "output_type": "stream",
          "name": "stdout",
          "text": [
            "(259, 44, 13, 1)\n",
            "(44, 13, 1)\n"
          ]
        }
      ]
    },
    {
      "cell_type": "code",
      "source": [
        "history = train(model, EPOCHS, BATCH_SIZE, PATIENCE, X_train, y_train, X_validation, y_validation)"
      ],
      "metadata": {
        "colab": {
          "base_uri": "https://localhost:8080/"
        },
        "id": "jyRvBxz0YRtf",
        "outputId": "426cbe60-61b1-45ad-ae84-a1519578c009"
      },
      "execution_count": 22,
      "outputs": [
        {
          "output_type": "stream",
          "name": "stdout",
          "text": [
            "Epoch 1/100\n",
            "9/9 [==============================] - 1s 64ms/step - loss: 1.9703 - accuracy: 0.2008 - val_loss: 2.6870 - val_accuracy: 0.2759\n",
            "Epoch 2/100\n",
            "9/9 [==============================] - 0s 44ms/step - loss: 1.5845 - accuracy: 0.2934 - val_loss: 2.1125 - val_accuracy: 0.2069\n",
            "Epoch 3/100\n",
            "9/9 [==============================] - 0s 40ms/step - loss: 1.4439 - accuracy: 0.3436 - val_loss: 1.8840 - val_accuracy: 0.2414\n",
            "Epoch 4/100\n",
            "9/9 [==============================] - 0s 42ms/step - loss: 1.3052 - accuracy: 0.4054 - val_loss: 1.7096 - val_accuracy: 0.2759\n",
            "Epoch 5/100\n",
            "9/9 [==============================] - 0s 42ms/step - loss: 1.2001 - accuracy: 0.4440 - val_loss: 1.5837 - val_accuracy: 0.2759\n",
            "Epoch 6/100\n",
            "9/9 [==============================] - 0s 43ms/step - loss: 1.1366 - accuracy: 0.4788 - val_loss: 1.5113 - val_accuracy: 0.3448\n",
            "Epoch 7/100\n",
            "9/9 [==============================] - 0s 42ms/step - loss: 1.0898 - accuracy: 0.5174 - val_loss: 1.4711 - val_accuracy: 0.3448\n",
            "Epoch 8/100\n",
            "9/9 [==============================] - 0s 41ms/step - loss: 1.0316 - accuracy: 0.5637 - val_loss: 1.4335 - val_accuracy: 0.3448\n",
            "Epoch 9/100\n",
            "9/9 [==============================] - 0s 42ms/step - loss: 0.9798 - accuracy: 0.6062 - val_loss: 1.3953 - val_accuracy: 0.3448\n",
            "Epoch 10/100\n",
            "9/9 [==============================] - 0s 44ms/step - loss: 0.9427 - accuracy: 0.6216 - val_loss: 1.3647 - val_accuracy: 0.3103\n",
            "Epoch 11/100\n",
            "9/9 [==============================] - 0s 41ms/step - loss: 0.8894 - accuracy: 0.6486 - val_loss: 1.3483 - val_accuracy: 0.2759\n",
            "Epoch 12/100\n",
            "9/9 [==============================] - 0s 40ms/step - loss: 0.8588 - accuracy: 0.6718 - val_loss: 1.3177 - val_accuracy: 0.3793\n",
            "Epoch 13/100\n",
            "9/9 [==============================] - 0s 42ms/step - loss: 0.8126 - accuracy: 0.7066 - val_loss: 1.2759 - val_accuracy: 0.3793\n",
            "Epoch 14/100\n",
            "9/9 [==============================] - 0s 42ms/step - loss: 0.7752 - accuracy: 0.7568 - val_loss: 1.2245 - val_accuracy: 0.3793\n",
            "Epoch 15/100\n",
            "9/9 [==============================] - 0s 40ms/step - loss: 0.7449 - accuracy: 0.7568 - val_loss: 1.1957 - val_accuracy: 0.4138\n",
            "Epoch 16/100\n",
            "9/9 [==============================] - 0s 43ms/step - loss: 0.7114 - accuracy: 0.7876 - val_loss: 1.1810 - val_accuracy: 0.4138\n",
            "Epoch 17/100\n",
            "9/9 [==============================] - 0s 41ms/step - loss: 0.6944 - accuracy: 0.8108 - val_loss: 1.1539 - val_accuracy: 0.4483\n",
            "Epoch 18/100\n",
            "9/9 [==============================] - 0s 41ms/step - loss: 0.6673 - accuracy: 0.7838 - val_loss: 1.1271 - val_accuracy: 0.5172\n",
            "Epoch 19/100\n",
            "9/9 [==============================] - 0s 44ms/step - loss: 0.6464 - accuracy: 0.8224 - val_loss: 1.1130 - val_accuracy: 0.4828\n",
            "Epoch 20/100\n",
            "9/9 [==============================] - 0s 39ms/step - loss: 0.6239 - accuracy: 0.7954 - val_loss: 1.0902 - val_accuracy: 0.4483\n",
            "Epoch 21/100\n",
            "9/9 [==============================] - 0s 42ms/step - loss: 0.5903 - accuracy: 0.8224 - val_loss: 1.0546 - val_accuracy: 0.5862\n",
            "Epoch 22/100\n",
            "9/9 [==============================] - 0s 41ms/step - loss: 0.5776 - accuracy: 0.8301 - val_loss: 1.0236 - val_accuracy: 0.5517\n",
            "Epoch 23/100\n",
            "9/9 [==============================] - 0s 42ms/step - loss: 0.5608 - accuracy: 0.8571 - val_loss: 0.9995 - val_accuracy: 0.6207\n",
            "Epoch 24/100\n",
            "9/9 [==============================] - 0s 41ms/step - loss: 0.5534 - accuracy: 0.8224 - val_loss: 1.0013 - val_accuracy: 0.6897\n",
            "Epoch 25/100\n",
            "9/9 [==============================] - 0s 40ms/step - loss: 0.5406 - accuracy: 0.8378 - val_loss: 1.0104 - val_accuracy: 0.5862\n",
            "Epoch 26/100\n",
            "9/9 [==============================] - 0s 40ms/step - loss: 0.5274 - accuracy: 0.8417 - val_loss: 1.0060 - val_accuracy: 0.5517\n",
            "Epoch 27/100\n",
            "9/9 [==============================] - 0s 43ms/step - loss: 0.5033 - accuracy: 0.8494 - val_loss: 0.9732 - val_accuracy: 0.6207\n",
            "Epoch 28/100\n",
            "9/9 [==============================] - 0s 40ms/step - loss: 0.4778 - accuracy: 0.8533 - val_loss: 0.9530 - val_accuracy: 0.6207\n",
            "Epoch 29/100\n",
            "9/9 [==============================] - 0s 43ms/step - loss: 0.4740 - accuracy: 0.8456 - val_loss: 0.9431 - val_accuracy: 0.6207\n",
            "Epoch 30/100\n",
            "9/9 [==============================] - 0s 40ms/step - loss: 0.4576 - accuracy: 0.8533 - val_loss: 0.9769 - val_accuracy: 0.6552\n",
            "Epoch 31/100\n",
            "9/9 [==============================] - 0s 41ms/step - loss: 0.4498 - accuracy: 0.8185 - val_loss: 0.9460 - val_accuracy: 0.6552\n",
            "Epoch 32/100\n",
            "9/9 [==============================] - 0s 43ms/step - loss: 0.4428 - accuracy: 0.8494 - val_loss: 0.9095 - val_accuracy: 0.6207\n",
            "Epoch 33/100\n",
            "9/9 [==============================] - 0s 42ms/step - loss: 0.4423 - accuracy: 0.8340 - val_loss: 0.9198 - val_accuracy: 0.6552\n",
            "Epoch 34/100\n",
            "9/9 [==============================] - 0s 41ms/step - loss: 0.4238 - accuracy: 0.8494 - val_loss: 0.9282 - val_accuracy: 0.6897\n",
            "Epoch 35/100\n",
            "9/9 [==============================] - 0s 44ms/step - loss: 0.4153 - accuracy: 0.8610 - val_loss: 0.9111 - val_accuracy: 0.6897\n",
            "Epoch 36/100\n",
            "9/9 [==============================] - 0s 42ms/step - loss: 0.4116 - accuracy: 0.8610 - val_loss: 0.8914 - val_accuracy: 0.6897\n",
            "Epoch 37/100\n",
            "9/9 [==============================] - 0s 45ms/step - loss: 0.3921 - accuracy: 0.8687 - val_loss: 0.8473 - val_accuracy: 0.6897\n",
            "Epoch 38/100\n",
            "9/9 [==============================] - 0s 41ms/step - loss: 0.3959 - accuracy: 0.8571 - val_loss: 0.8436 - val_accuracy: 0.7241\n",
            "Epoch 39/100\n",
            "9/9 [==============================] - 0s 43ms/step - loss: 0.4011 - accuracy: 0.8687 - val_loss: 0.8639 - val_accuracy: 0.7241\n",
            "Epoch 40/100\n",
            "9/9 [==============================] - 0s 43ms/step - loss: 0.3956 - accuracy: 0.8687 - val_loss: 0.8773 - val_accuracy: 0.7241\n",
            "Epoch 41/100\n",
            "9/9 [==============================] - 0s 42ms/step - loss: 0.3800 - accuracy: 0.8803 - val_loss: 0.8860 - val_accuracy: 0.7241\n",
            "Epoch 42/100\n",
            "9/9 [==============================] - 0s 42ms/step - loss: 0.3791 - accuracy: 0.8533 - val_loss: 0.8871 - val_accuracy: 0.7241\n",
            "Epoch 43/100\n",
            "9/9 [==============================] - 0s 44ms/step - loss: 0.3683 - accuracy: 0.8687 - val_loss: 0.8913 - val_accuracy: 0.7241\n",
            "Epoch 44/100\n",
            "9/9 [==============================] - 0s 42ms/step - loss: 0.3573 - accuracy: 0.8610 - val_loss: 0.8784 - val_accuracy: 0.7241\n",
            "Epoch 45/100\n",
            "9/9 [==============================] - 0s 43ms/step - loss: 0.3549 - accuracy: 0.8456 - val_loss: 0.8710 - val_accuracy: 0.6897\n",
            "Epoch 46/100\n",
            "9/9 [==============================] - 0s 40ms/step - loss: 0.3446 - accuracy: 0.8610 - val_loss: 0.8547 - val_accuracy: 0.6897\n",
            "Epoch 47/100\n",
            "9/9 [==============================] - 0s 42ms/step - loss: 0.3407 - accuracy: 0.8610 - val_loss: 0.8418 - val_accuracy: 0.6897\n",
            "Epoch 48/100\n",
            "9/9 [==============================] - 0s 42ms/step - loss: 0.3511 - accuracy: 0.8494 - val_loss: 0.8512 - val_accuracy: 0.6897\n",
            "Epoch 49/100\n",
            "9/9 [==============================] - 0s 41ms/step - loss: 0.3228 - accuracy: 0.8610 - val_loss: 0.8502 - val_accuracy: 0.6897\n",
            "Epoch 50/100\n",
            "9/9 [==============================] - 0s 41ms/step - loss: 0.3173 - accuracy: 0.8649 - val_loss: 0.8629 - val_accuracy: 0.7241\n",
            "Epoch 51/100\n",
            "9/9 [==============================] - 0s 43ms/step - loss: 0.3259 - accuracy: 0.8649 - val_loss: 0.8543 - val_accuracy: 0.7241\n",
            "Epoch 52/100\n",
            "9/9 [==============================] - 0s 40ms/step - loss: 0.3293 - accuracy: 0.8687 - val_loss: 0.8382 - val_accuracy: 0.7241\n",
            "Epoch 53/100\n",
            "9/9 [==============================] - 0s 43ms/step - loss: 0.3202 - accuracy: 0.8571 - val_loss: 0.8028 - val_accuracy: 0.7241\n",
            "Epoch 54/100\n",
            "9/9 [==============================] - 0s 40ms/step - loss: 0.3214 - accuracy: 0.8764 - val_loss: 0.8012 - val_accuracy: 0.7241\n",
            "Epoch 55/100\n",
            "9/9 [==============================] - 0s 41ms/step - loss: 0.3099 - accuracy: 0.8610 - val_loss: 0.8192 - val_accuracy: 0.7586\n",
            "Epoch 56/100\n",
            "9/9 [==============================] - 0s 43ms/step - loss: 0.3137 - accuracy: 0.8687 - val_loss: 0.8351 - val_accuracy: 0.7241\n",
            "Epoch 57/100\n",
            "9/9 [==============================] - 0s 39ms/step - loss: 0.3058 - accuracy: 0.8687 - val_loss: 0.8417 - val_accuracy: 0.7241\n",
            "Epoch 58/100\n",
            "9/9 [==============================] - 0s 41ms/step - loss: 0.2952 - accuracy: 0.8533 - val_loss: 0.8519 - val_accuracy: 0.6897\n",
            "Epoch 59/100\n",
            "9/9 [==============================] - 0s 42ms/step - loss: 0.2931 - accuracy: 0.8494 - val_loss: 0.8505 - val_accuracy: 0.7241\n",
            "Epoch 60/100\n",
            "9/9 [==============================] - 0s 41ms/step - loss: 0.2860 - accuracy: 0.8610 - val_loss: 0.8362 - val_accuracy: 0.7241\n",
            "Epoch 61/100\n",
            "9/9 [==============================] - 0s 42ms/step - loss: 0.2867 - accuracy: 0.8649 - val_loss: 0.8409 - val_accuracy: 0.7241\n",
            "Epoch 62/100\n",
            "9/9 [==============================] - 0s 40ms/step - loss: 0.3036 - accuracy: 0.8764 - val_loss: 0.8457 - val_accuracy: 0.7241\n",
            "Epoch 63/100\n",
            "9/9 [==============================] - 0s 41ms/step - loss: 0.2988 - accuracy: 0.8687 - val_loss: 0.8223 - val_accuracy: 0.6897\n",
            "Epoch 64/100\n",
            "9/9 [==============================] - 0s 43ms/step - loss: 0.3013 - accuracy: 0.8726 - val_loss: 0.8331 - val_accuracy: 0.7241\n",
            "Epoch 65/100\n",
            "9/9 [==============================] - 0s 42ms/step - loss: 0.2959 - accuracy: 0.8494 - val_loss: 0.8375 - val_accuracy: 0.7241\n",
            "Epoch 66/100\n",
            "9/9 [==============================] - 0s 42ms/step - loss: 0.3064 - accuracy: 0.8494 - val_loss: 0.8028 - val_accuracy: 0.7241\n",
            "Epoch 67/100\n",
            "9/9 [==============================] - 0s 43ms/step - loss: 0.2814 - accuracy: 0.8726 - val_loss: 0.7909 - val_accuracy: 0.7241\n",
            "Epoch 68/100\n",
            "9/9 [==============================] - 0s 42ms/step - loss: 0.2714 - accuracy: 0.8726 - val_loss: 0.8123 - val_accuracy: 0.7241\n",
            "Epoch 69/100\n",
            "9/9 [==============================] - 0s 42ms/step - loss: 0.2804 - accuracy: 0.8726 - val_loss: 0.8146 - val_accuracy: 0.7241\n",
            "Epoch 70/100\n",
            "9/9 [==============================] - 0s 41ms/step - loss: 0.2768 - accuracy: 0.8610 - val_loss: 0.8223 - val_accuracy: 0.7241\n",
            "Epoch 71/100\n",
            "9/9 [==============================] - 0s 43ms/step - loss: 0.2711 - accuracy: 0.8649 - val_loss: 0.8084 - val_accuracy: 0.7241\n",
            "Epoch 72/100\n",
            "9/9 [==============================] - 0s 42ms/step - loss: 0.2935 - accuracy: 0.8803 - val_loss: 0.7809 - val_accuracy: 0.6897\n",
            "Epoch 73/100\n",
            "9/9 [==============================] - 0s 41ms/step - loss: 0.2803 - accuracy: 0.8726 - val_loss: 0.7818 - val_accuracy: 0.7241\n",
            "Epoch 74/100\n",
            "9/9 [==============================] - 0s 42ms/step - loss: 0.2738 - accuracy: 0.8649 - val_loss: 0.8692 - val_accuracy: 0.7241\n",
            "Epoch 75/100\n",
            "9/9 [==============================] - 0s 44ms/step - loss: 0.2707 - accuracy: 0.8803 - val_loss: 0.8849 - val_accuracy: 0.7241\n"
          ]
        }
      ]
    },
    {
      "cell_type": "code",
      "source": [
        "plot_history(history)"
      ],
      "metadata": {
        "id": "rDYr5PaOYUpg",
        "colab": {
          "base_uri": "https://localhost:8080/",
          "height": 312
        },
        "outputId": "0ca87451-b5ee-43a2-fb58-d06e502cdd2c"
      },
      "execution_count": 23,
      "outputs": [
        {
          "output_type": "display_data",
          "data": {
            "text/plain": [
              "<Figure size 432x288 with 2 Axes>"
            ],
            "image/png": "[encoded data removed]"
          },
          "metadata": {
            "needs_background": "light"
          }
        },
        {
          "output_type": "display_data",
          "data": {
            "text/plain": [
              "<Figure size 360x720 with 0 Axes>"
            ]
          },
          "metadata": {}
        }
      ]
    },
    {
      "cell_type": "code",
      "source": [
        "test_loss, test_acc = model.evaluate(X_test, y_test)"
      ],
      "metadata": {
        "colab": {
          "base_uri": "https://localhost:8080/"
        },
        "id": "UAN2xU4PD1X6",
        "outputId": "e185fc43-2743-4022-829e-b636a26fe4c7"
      },
      "execution_count": 24,
      "outputs": [
        {
          "output_type": "stream",
          "name": "stdout",
          "text": [
            "1/1 [==============================] - 0s 366ms/step - loss: 1.0017 - accuracy: 0.6562\n"
          ]
        }
      ]
    },
    {
      "cell_type": "code",
      "source": [
        "model.save(SAVED_MODEL_PATH)"
      ],
      "metadata": {
        "id": "KcjCt4gSF9FK"
      },
      "execution_count": 25,
      "outputs": []
    },
    {
      "cell_type": "markdown",
      "source": [
        "## **Prediction**\n",
        "Try the model to predict"
      ],
      "metadata": {
        "id": "Qug7pJViGSLQ"
      }
    },
    {
      "cell_type": "code",
      "source": [
        "import librosa\n",
        "panjang_sampel=22050\n",
        "#preprocess the input sample function\n",
        "def preprocess(file_path, num_mfcc=13, n_fft=2048, hop_length=512):\n",
        "        \"\"\"Extract MFCCs from audio file.\n",
        "        :param file_path (str): Path of audio file\n",
        "        :param num_mfcc (int): # of coefficients to extract\n",
        "        :param n_fft (int): Interval we consider to apply STFT. Measured in # of samples\n",
        "        :param hop_length (int): Sliding window for STFT. Measured in # of samples\n",
        "        :return MFCCs (ndarray): 2-dim array with MFCC data of shape (# time steps, # coefficients)\n",
        "        \"\"\"\n",
        "\n",
        "        # load audio file\n",
        "        signal, sample_rate = librosa.load(file_path)\n",
        "\n",
        "        if len(signal) >= panjang_sampel:\n",
        "            # ensure consistency of the length of the signal\n",
        "            signal = signal[:panjang_sampel]\n",
        "\n",
        "            # extract MFCCs\n",
        "            MFCCs = librosa.feature.mfcc(signal, sample_rate, n_mfcc=num_mfcc, n_fft=n_fft,\n",
        "                                         hop_length=hop_length)\n",
        "        return MFCCs.T"
      ],
      "metadata": {
        "id": "1ivtsC-xG2Gq"
      },
      "execution_count": 32,
      "outputs": []
    },
    {
      "cell_type": "code",
      "source": [
        "loaded=tf.keras.models.load_model(SAVED_MODEL_PATH)"
      ],
      "metadata": {
        "id": "ZizuSGK6G5eA"
      },
      "execution_count": 33,
      "outputs": []
    },
    {
      "cell_type": "code",
      "source": [
        "def predict(file_path):\n",
        "       \n",
        "        # extract MFCC\n",
        "        MFCCs = preprocess(file_path)\n",
        "\n",
        "        # we need a 4-dim array to feed to the model for prediction: (# samples, # time steps, # coefficients, 1)\n",
        "        MFCCs = MFCCs[np.newaxis, ..., np.newaxis]\n",
        "\n",
        "        # get the predicted label\n",
        "        predictions = loaded.predict(MFCCs)\n",
        "\n",
        "        return predictions"
      ],
      "metadata": {
        "id": "G56d4teeG707"
      },
      "execution_count": 34,
      "outputs": []
    },
    {
      "cell_type": "code",
      "source": [
        "tes=predict(\"/content/drive/MyDrive/BANGKIT_CAPSTONE/dataset/testing2.ogg\")\n",
        "tes"
      ],
      "metadata": {
        "colab": {
          "base_uri": "https://localhost:8080/"
        },
        "id": "iNNj9NNFHGWN",
        "outputId": "961c879a-f1f4-4ec8-d1b3-a135c3f44b5e"
      },
      "execution_count": 41,
      "outputs": [
        {
          "output_type": "stream",
          "name": "stderr",
          "text": [
            "/usr/local/lib/python3.7/dist-packages/librosa/core/audio.py:165: UserWarning: PySoundFile failed. Trying audioread instead.\n",
            "  warnings.warn(\"PySoundFile failed. Trying audioread instead.\")\n"
          ]
        },
        {
          "output_type": "execute_result",
          "data": {
            "text/plain": [
              "array([[9.3971056e-01, 7.2601036e-04, 4.2593643e-02, 1.6969845e-02]],\n",
              "      dtype=float32)"
            ]
          },
          "metadata": {},
          "execution_count": 41
        }
      ]
    },
    {
      "cell_type": "code",
      "source": [
        "print(\"Prediksi Kekerasan: \\n\")\n",
        "print(\"Seksual: \"+str(tes[0,0]*100)+\"%\")\n",
        "print(\"Penguntitan: \"+str(tes[0,1]*100)+\"%\")\n",
        "print(\"Fisik: \"+str(tes[0,2]*100)+\"%\")\n",
        "print(\"Domestik: \"+str(tes[0,3]*100)+\"%\")"
      ],
      "metadata": {
        "colab": {
          "base_uri": "https://localhost:8080/"
        },
        "id": "ayNJ3CioHjgw",
        "outputId": "cf041499-df8a-402f-d4c7-911e91a42fe7"
      },
      "execution_count": 43,
      "outputs": [
        {
          "output_type": "stream",
          "name": "stdout",
          "text": [
            "Prediksi Kekerasan: \n",
            "\n",
            "Seksual: 93.97105574607849%\n",
            "Penguntitan: 0.07260103593580425%\n",
            "Fisik: 4.259364306926727%\n",
            "Domestik: 1.6969844698905945%\n"
          ]
        }
      ]
    },
    {
      "cell_type": "code",
      "source": [
        ""
      ],
      "metadata": {
        "id": "WHgEH5OoHpis"
      },
      "execution_count": null,
      "outputs": []
    }
  ]
}